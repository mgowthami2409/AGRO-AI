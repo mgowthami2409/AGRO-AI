{
 "cells": [
  {
   "cell_type": "code",
   "execution_count": 48,
   "id": "c96bfbb0-0220-46ce-8703-6262c1175474",
   "metadata": {},
   "outputs": [
    {
     "name": "stdout",
     "output_type": "stream",
     "text": [
      "NDVI Value: 33605.87237668407\n"
     ]
    }
   ],
   "source": [
    "import cv2\n",
    "import numpy as np\n",
    "\n",
    "def calculate_ndvi(image_path):\n",
    "    # Read the image\n",
    "    img = cv2.imread(r\"C:\\Users\\Admin\\Downloads\\Major Project\\rice_leaf_diseases\\rice_leaf_diseases\\Bacterial leaf blight\\DSC_0703.JPG\")\n",
    "    # Simulate Near-Infrared (NIR) and Red channels\n",
    "    nir = img[:, :, 2]  # Assuming NIR is in the Red channel\n",
    "    red = img[:, :, 0]  # Assuming Red is in the Blue channel\n",
    "    # Calculate NDVI (Normalized Difference Vegetative Index)\n",
    "    ndvi = (nir.astype(float) - red.astype(float)) / (nir + red + 1e-6)\n",
    "    return np.mean(ndvi)  # Return average NDVI\n",
    "\n",
    "ndvi_value = calculate_ndvi(\"leaf_image.jpg\")\n",
    "print(\"NDVI Value:\", ndvi_value)\n"
   ]
  },
  {
   "cell_type": "code",
   "execution_count": 56,
   "id": "35a06a7b-3f77-4c78-abdc-370057e5e6cf",
   "metadata": {},
   "outputs": [
    {
     "name": "stdout",
     "output_type": "stream",
     "text": [
      "VARI: -0.04\n",
      "GLI: 0.06\n",
      "ExG: 0.08\n"
     ]
    }
   ],
   "source": [
    "#Calculating Index\n",
    "import cv2\n",
    "import numpy as np\n",
    "\n",
    "def calculate_indices(image_path):\n",
    "    # Read the image\n",
    "    img = cv2.imread(image_path)\n",
    "    \n",
    "    # Convert to float for calculations\n",
    "    img = img.astype(np.float32) / 255.0  \n",
    "\n",
    "    # Extract R, G, B channels\n",
    "    R = img[:, :, 2]\n",
    "    G = img[:, :, 1]\n",
    "    B = img[:, :, 0]\n",
    "\n",
    "    '''\n",
    "    Compute VARI(Visible Atmospherically Resistant Index), \n",
    "    GLI (Green Leaf Index),\n",
    "    ExG (Excess Green)\n",
    "    '''\n",
    "    vari = (G - R) / (G + R - B + 1e-6)  # Avoid division by zero\n",
    "    gli = (2 * G - R - B) / (2 * G + R + B + 1e-6)\n",
    "    exg = 2 * G - R - B\n",
    "\n",
    "    return np.mean(vari), np.mean(gli), np.mean(exg)\n",
    "\n",
    "# Example usage\n",
    "image_path = r\"C:\\Users\\Admin\\Downloads\\Major Project\\rice_leaf_diseases\\rice_leaf_diseases\\Bacterial leaf blight\\DSC_0703.JPG\"\n",
    "vari_value, gli_value, exg_value = calculate_indices(image_path)\n",
    "\n",
    "print(f\"VARI: {vari_value:.2f}\")\n",
    "print(f\"GLI: {gli_value:.2f}\")\n",
    "print(f\"ExG: {exg_value:.2f}\")\n"
   ]
  },
  {
   "cell_type": "code",
   "execution_count": 39,
   "id": "94b4bc6e-2c55-4058-abfa-dfc57b06be68",
   "metadata": {},
   "outputs": [
    {
     "name": "stdout",
     "output_type": "stream",
     "text": [
      "Dataset saved to vegetation_indices.csv\n"
     ]
    }
   ],
   "source": [
    "import cv2\n",
    "import numpy as np\n",
    "import pandas as pd\n",
    "import os\n",
    "\n",
    "def calculate_indices(image_path):\n",
    "    \"\"\"\n",
    "    Calculate VARI, GLI, and ExG indices from an RGB image.\n",
    "    \n",
    "    Args:\n",
    "        image_path (str): Path to the image file.\n",
    "    \n",
    "    Returns:\n",
    "        tuple: (VARI, GLI, ExG) mean values.\n",
    "    \"\"\"\n",
    "    # Read the image\n",
    "    img = cv2.imread(image_path)\n",
    "    \n",
    "    # Check if image is loaded properly\n",
    "    if img is None:\n",
    "        print(f\"Error: Unable to read image at {image_path}\")\n",
    "        return None, None, None\n",
    "    \n",
    "    # Convert to float for calculations\n",
    "    img = img.astype(np.float32) / 255.0  \n",
    "\n",
    "    # Extract R, G, B channels\n",
    "    R = img[:, :, 2]\n",
    "    G = img[:, :, 1]\n",
    "    B = img[:, :, 0]\n",
    "\n",
    "    # Compute vegetation indices\n",
    "    vari = (G - R) / (G + R - B + 1e-6)  # Avoid division by zero\n",
    "    gli = (2 * G - R - B) / (2 * G + R + B + 1e-6)\n",
    "    exg = 2 * G - R - B\n",
    "\n",
    "    return np.mean(vari), np.mean(gli), np.mean(exg)\n",
    "\n",
    "# 📌 Compute indices for all images in a dataset folder\n",
    "def process_dataset(image_folder, output_csv):\n",
    "    \"\"\"\n",
    "    Process all images in a folder and save computed indices to a CSV file.\n",
    "    \n",
    "    Args:\n",
    "        image_folder (str): Path to the folder containing images.\n",
    "        output_csv (str): Path to save the output CSV file.\n",
    "    \"\"\"\n",
    "    data = []\n",
    "    \n",
    "    for file_name in os.listdir(image_folder):\n",
    "        if file_name.endswith(('.jpg', '.png', '.jpeg')):  # Check for valid image files\n",
    "            image_path = os.path.join(image_folder, file_name)\n",
    "            vari, gli, exg = calculate_indices(image_path)\n",
    "            \n",
    "            if vari is not None:  # Ensure valid computation\n",
    "                data.append([file_name, vari, gli, exg])\n",
    "    \n",
    "    # Convert to DataFrame and save\n",
    "    df = pd.DataFrame(data, columns=[\"Image_Name\", \"VARI\", \"GLI\", \"ExG\"])\n",
    "    df.to_csv(output_csv, index=False, float_format=\"%.2f\")\n",
    "    print(f\"Dataset saved to {output_csv}\")\n",
    "\n",
    "# Example Usage\n",
    "image_folder = r\"C:\\Users\\Admin\\Downloads\\Major Project\\rice_leaf_diseases\\rice_leaf_diseases\\blast\"  # Update with your image folder path\n",
    "output_csv = \"vegetation_indices.csv\"\n",
    "process_dataset(image_folder, output_csv)\n"
   ]
  },
  {
   "cell_type": "code",
   "execution_count": 52,
   "id": "097d8b57-1e74-43bc-96e8-8753194b7245",
   "metadata": {},
   "outputs": [
    {
     "ename": "FileNotFoundError",
     "evalue": "[Errno 2] No such file or directory: 'npk_data.csv'",
     "output_type": "error",
     "traceback": [
      "\u001b[1;31m---------------------------------------------------------------------------\u001b[0m",
      "\u001b[1;31mFileNotFoundError\u001b[0m                         Traceback (most recent call last)",
      "Cell \u001b[1;32mIn[52], line 3\u001b[0m\n\u001b[0;32m      1\u001b[0m \u001b[38;5;66;03m# Load vegetation indices and soil test data\u001b[39;00m\n\u001b[0;32m      2\u001b[0m vegetation_data \u001b[38;5;241m=\u001b[39m pd\u001b[38;5;241m.\u001b[39mread_csv(\u001b[38;5;124m\"\u001b[39m\u001b[38;5;124mvegetation_indices.csv\u001b[39m\u001b[38;5;124m\"\u001b[39m)\n\u001b[1;32m----> 3\u001b[0m soil_data \u001b[38;5;241m=\u001b[39m pd\u001b[38;5;241m.\u001b[39mread_csv(\u001b[38;5;124m\"\u001b[39m\u001b[38;5;124mnpk_data.csv\u001b[39m\u001b[38;5;124m\"\u001b[39m)  \u001b[38;5;66;03m# Replace with actual soil test CSV\u001b[39;00m\n\u001b[0;32m      5\u001b[0m \u001b[38;5;66;03m# Merge data using image names\u001b[39;00m\n\u001b[0;32m      6\u001b[0m final_dataset \u001b[38;5;241m=\u001b[39m pd\u001b[38;5;241m.\u001b[39mmerge(soil_data, vegetation_data, left_on\u001b[38;5;241m=\u001b[39m\u001b[38;5;124m\"\u001b[39m\u001b[38;5;124mImage_Path\u001b[39m\u001b[38;5;124m\"\u001b[39m, right_on\u001b[38;5;241m=\u001b[39m\u001b[38;5;124m\"\u001b[39m\u001b[38;5;124mImage_Name\u001b[39m\u001b[38;5;124m\"\u001b[39m, how\u001b[38;5;241m=\u001b[39m\u001b[38;5;124m\"\u001b[39m\u001b[38;5;124minner\u001b[39m\u001b[38;5;124m\"\u001b[39m)\n",
      "File \u001b[1;32m~\\anaconda3\\Lib\\site-packages\\pandas\\io\\parsers\\readers.py:1026\u001b[0m, in \u001b[0;36mread_csv\u001b[1;34m(filepath_or_buffer, sep, delimiter, header, names, index_col, usecols, dtype, engine, converters, true_values, false_values, skipinitialspace, skiprows, skipfooter, nrows, na_values, keep_default_na, na_filter, verbose, skip_blank_lines, parse_dates, infer_datetime_format, keep_date_col, date_parser, date_format, dayfirst, cache_dates, iterator, chunksize, compression, thousands, decimal, lineterminator, quotechar, quoting, doublequote, escapechar, comment, encoding, encoding_errors, dialect, on_bad_lines, delim_whitespace, low_memory, memory_map, float_precision, storage_options, dtype_backend)\u001b[0m\n\u001b[0;32m   1013\u001b[0m kwds_defaults \u001b[38;5;241m=\u001b[39m _refine_defaults_read(\n\u001b[0;32m   1014\u001b[0m     dialect,\n\u001b[0;32m   1015\u001b[0m     delimiter,\n\u001b[1;32m   (...)\u001b[0m\n\u001b[0;32m   1022\u001b[0m     dtype_backend\u001b[38;5;241m=\u001b[39mdtype_backend,\n\u001b[0;32m   1023\u001b[0m )\n\u001b[0;32m   1024\u001b[0m kwds\u001b[38;5;241m.\u001b[39mupdate(kwds_defaults)\n\u001b[1;32m-> 1026\u001b[0m \u001b[38;5;28;01mreturn\u001b[39;00m _read(filepath_or_buffer, kwds)\n",
      "File \u001b[1;32m~\\anaconda3\\Lib\\site-packages\\pandas\\io\\parsers\\readers.py:620\u001b[0m, in \u001b[0;36m_read\u001b[1;34m(filepath_or_buffer, kwds)\u001b[0m\n\u001b[0;32m    617\u001b[0m _validate_names(kwds\u001b[38;5;241m.\u001b[39mget(\u001b[38;5;124m\"\u001b[39m\u001b[38;5;124mnames\u001b[39m\u001b[38;5;124m\"\u001b[39m, \u001b[38;5;28;01mNone\u001b[39;00m))\n\u001b[0;32m    619\u001b[0m \u001b[38;5;66;03m# Create the parser.\u001b[39;00m\n\u001b[1;32m--> 620\u001b[0m parser \u001b[38;5;241m=\u001b[39m TextFileReader(filepath_or_buffer, \u001b[38;5;241m*\u001b[39m\u001b[38;5;241m*\u001b[39mkwds)\n\u001b[0;32m    622\u001b[0m \u001b[38;5;28;01mif\u001b[39;00m chunksize \u001b[38;5;129;01mor\u001b[39;00m iterator:\n\u001b[0;32m    623\u001b[0m     \u001b[38;5;28;01mreturn\u001b[39;00m parser\n",
      "File \u001b[1;32m~\\anaconda3\\Lib\\site-packages\\pandas\\io\\parsers\\readers.py:1620\u001b[0m, in \u001b[0;36mTextFileReader.__init__\u001b[1;34m(self, f, engine, **kwds)\u001b[0m\n\u001b[0;32m   1617\u001b[0m     \u001b[38;5;28mself\u001b[39m\u001b[38;5;241m.\u001b[39moptions[\u001b[38;5;124m\"\u001b[39m\u001b[38;5;124mhas_index_names\u001b[39m\u001b[38;5;124m\"\u001b[39m] \u001b[38;5;241m=\u001b[39m kwds[\u001b[38;5;124m\"\u001b[39m\u001b[38;5;124mhas_index_names\u001b[39m\u001b[38;5;124m\"\u001b[39m]\n\u001b[0;32m   1619\u001b[0m \u001b[38;5;28mself\u001b[39m\u001b[38;5;241m.\u001b[39mhandles: IOHandles \u001b[38;5;241m|\u001b[39m \u001b[38;5;28;01mNone\u001b[39;00m \u001b[38;5;241m=\u001b[39m \u001b[38;5;28;01mNone\u001b[39;00m\n\u001b[1;32m-> 1620\u001b[0m \u001b[38;5;28mself\u001b[39m\u001b[38;5;241m.\u001b[39m_engine \u001b[38;5;241m=\u001b[39m \u001b[38;5;28mself\u001b[39m\u001b[38;5;241m.\u001b[39m_make_engine(f, \u001b[38;5;28mself\u001b[39m\u001b[38;5;241m.\u001b[39mengine)\n",
      "File \u001b[1;32m~\\anaconda3\\Lib\\site-packages\\pandas\\io\\parsers\\readers.py:1880\u001b[0m, in \u001b[0;36mTextFileReader._make_engine\u001b[1;34m(self, f, engine)\u001b[0m\n\u001b[0;32m   1878\u001b[0m     \u001b[38;5;28;01mif\u001b[39;00m \u001b[38;5;124m\"\u001b[39m\u001b[38;5;124mb\u001b[39m\u001b[38;5;124m\"\u001b[39m \u001b[38;5;129;01mnot\u001b[39;00m \u001b[38;5;129;01min\u001b[39;00m mode:\n\u001b[0;32m   1879\u001b[0m         mode \u001b[38;5;241m+\u001b[39m\u001b[38;5;241m=\u001b[39m \u001b[38;5;124m\"\u001b[39m\u001b[38;5;124mb\u001b[39m\u001b[38;5;124m\"\u001b[39m\n\u001b[1;32m-> 1880\u001b[0m \u001b[38;5;28mself\u001b[39m\u001b[38;5;241m.\u001b[39mhandles \u001b[38;5;241m=\u001b[39m get_handle(\n\u001b[0;32m   1881\u001b[0m     f,\n\u001b[0;32m   1882\u001b[0m     mode,\n\u001b[0;32m   1883\u001b[0m     encoding\u001b[38;5;241m=\u001b[39m\u001b[38;5;28mself\u001b[39m\u001b[38;5;241m.\u001b[39moptions\u001b[38;5;241m.\u001b[39mget(\u001b[38;5;124m\"\u001b[39m\u001b[38;5;124mencoding\u001b[39m\u001b[38;5;124m\"\u001b[39m, \u001b[38;5;28;01mNone\u001b[39;00m),\n\u001b[0;32m   1884\u001b[0m     compression\u001b[38;5;241m=\u001b[39m\u001b[38;5;28mself\u001b[39m\u001b[38;5;241m.\u001b[39moptions\u001b[38;5;241m.\u001b[39mget(\u001b[38;5;124m\"\u001b[39m\u001b[38;5;124mcompression\u001b[39m\u001b[38;5;124m\"\u001b[39m, \u001b[38;5;28;01mNone\u001b[39;00m),\n\u001b[0;32m   1885\u001b[0m     memory_map\u001b[38;5;241m=\u001b[39m\u001b[38;5;28mself\u001b[39m\u001b[38;5;241m.\u001b[39moptions\u001b[38;5;241m.\u001b[39mget(\u001b[38;5;124m\"\u001b[39m\u001b[38;5;124mmemory_map\u001b[39m\u001b[38;5;124m\"\u001b[39m, \u001b[38;5;28;01mFalse\u001b[39;00m),\n\u001b[0;32m   1886\u001b[0m     is_text\u001b[38;5;241m=\u001b[39mis_text,\n\u001b[0;32m   1887\u001b[0m     errors\u001b[38;5;241m=\u001b[39m\u001b[38;5;28mself\u001b[39m\u001b[38;5;241m.\u001b[39moptions\u001b[38;5;241m.\u001b[39mget(\u001b[38;5;124m\"\u001b[39m\u001b[38;5;124mencoding_errors\u001b[39m\u001b[38;5;124m\"\u001b[39m, \u001b[38;5;124m\"\u001b[39m\u001b[38;5;124mstrict\u001b[39m\u001b[38;5;124m\"\u001b[39m),\n\u001b[0;32m   1888\u001b[0m     storage_options\u001b[38;5;241m=\u001b[39m\u001b[38;5;28mself\u001b[39m\u001b[38;5;241m.\u001b[39moptions\u001b[38;5;241m.\u001b[39mget(\u001b[38;5;124m\"\u001b[39m\u001b[38;5;124mstorage_options\u001b[39m\u001b[38;5;124m\"\u001b[39m, \u001b[38;5;28;01mNone\u001b[39;00m),\n\u001b[0;32m   1889\u001b[0m )\n\u001b[0;32m   1890\u001b[0m \u001b[38;5;28;01massert\u001b[39;00m \u001b[38;5;28mself\u001b[39m\u001b[38;5;241m.\u001b[39mhandles \u001b[38;5;129;01mis\u001b[39;00m \u001b[38;5;129;01mnot\u001b[39;00m \u001b[38;5;28;01mNone\u001b[39;00m\n\u001b[0;32m   1891\u001b[0m f \u001b[38;5;241m=\u001b[39m \u001b[38;5;28mself\u001b[39m\u001b[38;5;241m.\u001b[39mhandles\u001b[38;5;241m.\u001b[39mhandle\n",
      "File \u001b[1;32m~\\anaconda3\\Lib\\site-packages\\pandas\\io\\common.py:873\u001b[0m, in \u001b[0;36mget_handle\u001b[1;34m(path_or_buf, mode, encoding, compression, memory_map, is_text, errors, storage_options)\u001b[0m\n\u001b[0;32m    868\u001b[0m \u001b[38;5;28;01melif\u001b[39;00m \u001b[38;5;28misinstance\u001b[39m(handle, \u001b[38;5;28mstr\u001b[39m):\n\u001b[0;32m    869\u001b[0m     \u001b[38;5;66;03m# Check whether the filename is to be opened in binary mode.\u001b[39;00m\n\u001b[0;32m    870\u001b[0m     \u001b[38;5;66;03m# Binary mode does not support 'encoding' and 'newline'.\u001b[39;00m\n\u001b[0;32m    871\u001b[0m     \u001b[38;5;28;01mif\u001b[39;00m ioargs\u001b[38;5;241m.\u001b[39mencoding \u001b[38;5;129;01mand\u001b[39;00m \u001b[38;5;124m\"\u001b[39m\u001b[38;5;124mb\u001b[39m\u001b[38;5;124m\"\u001b[39m \u001b[38;5;129;01mnot\u001b[39;00m \u001b[38;5;129;01min\u001b[39;00m ioargs\u001b[38;5;241m.\u001b[39mmode:\n\u001b[0;32m    872\u001b[0m         \u001b[38;5;66;03m# Encoding\u001b[39;00m\n\u001b[1;32m--> 873\u001b[0m         handle \u001b[38;5;241m=\u001b[39m \u001b[38;5;28mopen\u001b[39m(\n\u001b[0;32m    874\u001b[0m             handle,\n\u001b[0;32m    875\u001b[0m             ioargs\u001b[38;5;241m.\u001b[39mmode,\n\u001b[0;32m    876\u001b[0m             encoding\u001b[38;5;241m=\u001b[39mioargs\u001b[38;5;241m.\u001b[39mencoding,\n\u001b[0;32m    877\u001b[0m             errors\u001b[38;5;241m=\u001b[39merrors,\n\u001b[0;32m    878\u001b[0m             newline\u001b[38;5;241m=\u001b[39m\u001b[38;5;124m\"\u001b[39m\u001b[38;5;124m\"\u001b[39m,\n\u001b[0;32m    879\u001b[0m         )\n\u001b[0;32m    880\u001b[0m     \u001b[38;5;28;01melse\u001b[39;00m:\n\u001b[0;32m    881\u001b[0m         \u001b[38;5;66;03m# Binary mode\u001b[39;00m\n\u001b[0;32m    882\u001b[0m         handle \u001b[38;5;241m=\u001b[39m \u001b[38;5;28mopen\u001b[39m(handle, ioargs\u001b[38;5;241m.\u001b[39mmode)\n",
      "\u001b[1;31mFileNotFoundError\u001b[0m: [Errno 2] No such file or directory: 'npk_data.csv'"
     ]
    }
   ],
   "source": [
    "# Load vegetation indices and soil test data\n",
    "vegetation_data = pd.read_csv(\"vegetation_indices.csv\")\n",
    "soil_data = pd.read_csv(\"npk_data.csv\")  # Replace with actual soil test CSV\n",
    "\n",
    "# Merge data using image names\n",
    "final_dataset = pd.merge(soil_data, vegetation_data, left_on=\"Image_Path\", right_on=\"Image_Name\", how=\"inner\")\n",
    "\n",
    "# Drop unnecessary columns\n",
    "final_dataset.drop(columns=[\"Image_Name\"], inplace=True)\n",
    "\n",
    "# Save the final dataset\n",
    "final_dataset.to_csv(\"final_npk_dataset.csv\", index=False)\n",
    "\n",
    "print(\"Final dataset saved as final_npk_dataset.csv\")"
   ]
  },
  {
   "cell_type": "code",
   "execution_count": null,
   "id": "f7e8c4f3-b3ba-48c0-b602-260f570414d8",
   "metadata": {},
   "outputs": [],
   "source": []
  }
 ],
 "metadata": {
  "kernelspec": {
   "display_name": "Python 3 (ipykernel)",
   "language": "python",
   "name": "python3"
  },
  "language_info": {
   "codemirror_mode": {
    "name": "ipython",
    "version": 3
   },
   "file_extension": ".py",
   "mimetype": "text/x-python",
   "name": "python",
   "nbconvert_exporter": "python",
   "pygments_lexer": "ipython3",
   "version": "3.12.7"
  }
 },
 "nbformat": 4,
 "nbformat_minor": 5
}
